{
 "cells": [
  {
   "cell_type": "code",
   "execution_count": 6,
   "metadata": {},
   "outputs": [],
   "source": [
    "# Import necessary libraries\n",
    "import sys\n",
    "import os\n",
    "sys.path.append(r'D:\\Projects\\PIB Chatbot\\Project_P')\n",
    "\n",
    "\n",
    "from dotenv import load_dotenv\n",
    "from FinalApplicationFiles.embeddings.embeddings import initialize_embeddings \n",
    "from FinalApplicationFiles.VectorDB.pinecone_setup import PineconeVectorDatabase\n",
    "from FinalApplicationFiles.LLMs.llm import initialize_llm, create_rag_chain\n",
    "# Load environment variables from .env file\n",
    "\n",
    "load_dotenv()\n",
    "\n",
    "# Fetch API keys from environment variables\n",
    "pinecone_api_key = os.getenv(\"PINECONE_API_KEY\")  # Pinecone API key\n",
    "gemini_api_key = os.getenv(\"GEMINI_API_KEY\")"
   ]
  },
  {
   "cell_type": "code",
   "execution_count": 7,
   "metadata": {},
   "outputs": [
    {
     "name": "stderr",
     "output_type": "stream",
     "text": [
      "d:\\Projects\\PIB Chatbot\\Project_P\\.venv\\lib\\site-packages\\transformers\\tokenization_utils_base.py:1617: FutureWarning: `clean_up_tokenization_spaces` was not set. It will be set to `True` by default. This behavior will be deprecated in transformers v4.45, and will be then set to `False` by default. For more details check this issue: https://github.com/huggingface/transformers/issues/31884\n",
      "  warnings.warn(\n"
     ]
    }
   ],
   "source": [
    "embeddings = initialize_embeddings()"
   ]
  },
  {
   "cell_type": "code",
   "execution_count": 13,
   "metadata": {},
   "outputs": [],
   "source": [
    "index_name = \"pib\"\n",
    "PVC = PineconeVectorDatabase(pinecone_api_key, index_name, embeddings)\n",
    "vector_store = PVC._setup_pinecone()\n"
   ]
  },
  {
   "cell_type": "code",
   "execution_count": 15,
   "metadata": {},
   "outputs": [
    {
     "name": "stdout",
     "output_type": "stream",
     "text": [
      "Error in retrieving documents: 'PineconeVectorDatabase' object has no attribute 'index'\n"
     ]
    }
   ],
   "source": [
    "retriever = PVC.retrieve_documents()"
   ]
  },
  {
   "cell_type": "code",
   "execution_count": null,
   "metadata": {},
   "outputs": [],
   "source": [
    "\n",
    "\n",
    "    # Setup Pinecone connection and index\n",
    "    \n",
    "    # Retrieve documents from the vector store (no vector addition)\n",
    "    \n",
    "\n",
    "    # Initialize the Google Generative AI model\n",
    "    llm = initialize_llm(gemini_api_key)\n",
    "\n",
    "    # Create the RAG chain (Retrieval-Augmented Generation)\n",
    "    rag_chain = create_rag_chain(retriever, llm)\n",
    "\n",
    "    # Loop to ask multiple questions\n",
    "    while True:\n",
    "        question = input(\"Enter your question (or type 'exit' to stop): \")\n",
    "\n",
    "        if question.lower() == 'exit':\n",
    "            print(\"Exiting the Q&A session.\")\n",
    "            break\n",
    "        \n",
    "        # Use the chain to generate an answer\n",
    "        ans = rag_chain.invoke(question)\n",
    "    \n",
    "\n",
    "        # Print the generated answer\n",
    "        print(f\"Answer: {ans}\")\n",
    "\n",
    "        print(\"\\n\")  # Blank line between questions"
   ]
  },
  {
   "cell_type": "code",
   "execution_count": 1,
   "metadata": {},
   "outputs": [
    {
     "name": "stderr",
     "output_type": "stream",
     "text": [
      "d:\\Projects\\PIB Chatbot\\Project_P\\.venv\\lib\\site-packages\\pinecone\\data\\index.py:1: TqdmWarning: IProgress not found. Please update jupyter and ipywidgets. See https://ipywidgets.readthedocs.io/en/stable/user_install.html\n",
      "  from tqdm.autonotebook import tqdm\n"
     ]
    }
   ],
   "source": [
    "\n",
    "from langchain_pinecone import PineconeVectorStore\n",
    "from pinecone import Pinecone, ServerlessSpec"
   ]
  },
  {
   "cell_type": "code",
   "execution_count": 5,
   "metadata": {},
   "outputs": [
    {
     "name": "stdout",
     "output_type": "stream",
     "text": [
      "d8483968-c7a2-41a1-af4b-b10233f49e08\n"
     ]
    }
   ],
   "source": [
    "import os\n",
    "from dotenv import load_dotenv\n",
    "load_dotenv()\n",
    "\n",
    "print(os.getenv(\"PINECONE_API_KEY\"))"
   ]
  },
  {
   "cell_type": "code",
   "execution_count": 8,
   "metadata": {},
   "outputs": [],
   "source": [
    "pc = Pinecone(api_key=os.getenv(\"PINECONE_API_KEY\"))\n",
    "existing_indexes = [index_info[\"name\"] for index_info in pc.list_indexes()]\n",
    "index_name = \"pib\"\n",
    "index = pc.Index(index_name)\n",
    "\n",
    "embeddings = initialize_embeddings()\n",
    "        # Initialize vector store\n",
    "vector_store = PineconeVectorStore(index=index, embedding=embeddings)"
   ]
  },
  {
   "cell_type": "code",
   "execution_count": 9,
   "metadata": {},
   "outputs": [],
   "source": [
    "retriever= vector_store.as_retriever()"
   ]
  },
  {
   "cell_type": "code",
   "execution_count": 10,
   "metadata": {},
   "outputs": [],
   "source": [
    "docs = retriever.invoke(\"Tell me about Swachh Bharat Abhiyan\")"
   ]
  },
  {
   "cell_type": "code",
   "execution_count": 11,
   "metadata": {},
   "outputs": [
    {
     "data": {
      "text/plain": [
       "[Document(id='f74e3b3f-22d1-45b1-8978-dfa5fbaf56b9', metadata={'Ministry': 'Prime_Ministers_Office', 'Month': 'Nov23html', 'source': 'English_rendering_of_PM’s_address_in_the.txt'}, page_content=\"\\nMy family members, 'Swachh Bharat' has now become a favorite topic of the entire country. It of course is my favorite topic as well and as soon as I receive any news related to it, my mind veers towards it… and it is naturalfor it to certainly find a mention in 'Mann Ki Baat'. The Swachh Bharat Abhiyan has changed people's mindset regarding cleanliness and public hygiene. Today this initiative has become a symbol of the national spirit, which has improved the lives of crores of countrymen. This campaign has also inspired people from different walks of life, especially the youth, for collective participation. One such commendable effort has been observed in Surat. A team of youth has started ‘Project Surat’ there. Its aim is to make Surat a model city which becomes an excellent example of cleanliness and sustainable development. Under this effort, which commenced as 'Safai Sunday', the youth of Suratearlier used to clean public places and the Dumas Beach. Later, these people also got involved wholeheartedly in cleaning the banks of the Tapiriver. And you will be happy to know that within no time the number of people associated with this has risen to more than 50 thousand. The confidence of the team increased with the support received from the people, after which they also embarked upon the task of collecting garbage. You will be surprised to know that this team has cleared lakhs of kilos of garbage. Such efforts made at the grassroots level can bring huge changes.\"),\n",
       " Document(id='f8615291-7fca-4fd2-a7f7-5e1d70dc50b0', metadata={'Ministry': 'Ministry_of_Defence', 'Month': 'Feb23html', 'source': 'OPERATION_SADBHAVANA_IN_LADAKH_Posted_On.txt'}, page_content='This information was given by Raksha Rajya Mantri Shri Ajay Bhatt in a written reply to Shri Jamyang Tsering Namgyal in Lok Sabha today.\\n*****\\nABB/Savvy'),\n",
       " Document(id='16e7956f-c498-43e9-b8f4-8628f3e527f5', metadata={'Ministry': 'Ministry_of_Housing_Urban_Affairs', 'Month': 'Jan24html', 'source': 'Swachh_Survekshan_Awards_2023_conferred_.txt'}, page_content=\"The 9 years of Swachh Bharat Mission and the spirit of swachhata was reinvigorated in the presence of the Hon’ble President, through an audio visual presentation highlighting Ek Tareekh Ek Ghanta Ek Saath campaign and the release of the Swachh Bharat Mission Anthem for 2024. Playback singer, Kailash Kher has lent his voice to the anthem 'Naya Sankalp Hai, Naya Prakalp Hai'.\"),\n",
       " Document(id='6354a0a8-8e69-494e-9290-19f6b9237abf', metadata={'Ministry': 'Ministry_of_Housing_Urban_Affairs', 'Month': 'Apr23html', 'source': '“Replace_plastic_bags_with_cloth_bags”_P.txt'}, page_content='Swachh Bharat Mission is very close to the Hon’ble PM’s heart and it has often found a special mention in Mann Ki Baat episodes. Whether it was the Yuva Swachhta Evam Janseva Samiti or the Youth for Parivartan, whether it was Kamala Moharana from Kendrapada or Manoj Bainjwal from Rudra Prayag, no contribution has gone unheard. Highlighting the contributions of the youth in Haryana’s Bhiwani, the PM mentioned in his Mann Ki Baat episode on 26th Feb., 2023, that a cleanliness campaign by the youth of Bhiwani, Haryana caught his attention, who decided to make his city exemplary in terms of cleanliness.\\nThey formed an organization called Yuva Swachhta Evam Janseva Samiti in order to run cleanliness drives in the city that have cleared tons of garbage from different areas of the city.')]"
      ]
     },
     "execution_count": 11,
     "metadata": {},
     "output_type": "execute_result"
    }
   ],
   "source": [
    "docs"
   ]
  },
  {
   "cell_type": "code",
   "execution_count": null,
   "metadata": {},
   "outputs": [],
   "source": []
  }
 ],
 "metadata": {
  "kernelspec": {
   "display_name": ".venv",
   "language": "python",
   "name": "python3"
  },
  "language_info": {
   "codemirror_mode": {
    "name": "ipython",
    "version": 3
   },
   "file_extension": ".py",
   "mimetype": "text/x-python",
   "name": "python",
   "nbconvert_exporter": "python",
   "pygments_lexer": "ipython3",
   "version": "3.9.18"
  }
 },
 "nbformat": 4,
 "nbformat_minor": 2
}
